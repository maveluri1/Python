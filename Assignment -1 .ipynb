{
 "cells": [
  {
   "cell_type": "code",
   "execution_count": 1,
   "metadata": {},
   "outputs": [],
   "source": [
    "# Assignment on Microsoft Data\n",
    "# Problem Statement - Identify whether a machine has been affected by Virus or not\n",
    "# Output variable - HasDetections (value is 0 or 1, categorical variable) \n",
    "# Built few classification models and measure the performance\n",
    "\n",
    "import pandas as pd\n",
    "import numpy as np\n",
    "import matplotlib.pyplot as plt\n",
    "import warnings\n",
    "warnings.filterwarnings('ignore')\n",
    "\n",
    "from sklearn.linear_model import LogisticRegression\n",
    "from sklearn.metrics import confusion_matrix, accuracy_score,precision_score,recall_score, roc_auc_score, roc_curve, f1_score\n",
    "from sklearn.model_selection import train_test_split\n",
    "from sklearn.tree import DecisionTreeClassifier\n",
    "from sklearn.model_selection import GridSearchCV\n",
    "\n",
    "# Import Microsoft Dataset\n",
    "ms_df = pd.read_csv('Microsoft_Data-1.csv')\n",
    "\n",
    "#ms_df.dtypes"
   ]
  },
  {
   "cell_type": "code",
   "execution_count": 3,
   "metadata": {},
   "outputs": [],
   "source": [
    "# Selecting features/columns from data file\n",
    "# If any of the columns have unique values or having null values more than 50 % then drop those columns\n",
    "# Drop unique value columns - MachineIdentifier\n",
    "# Drop same value across column - IsBeta\n",
    "# Drop columns with null value > 50 % - DefaultBrowsersIdentifier, AVProductStatesIdentifier, AVProductsInstalled,\n",
    "#   AVProductsEnabled, CountryIdentifier, CityIdentifier, OrganizationIdentifier, GeoNameIdentifier, LocaleEnglishNameIdentifier\n",
    "#   AutoSampleOptIn, PuaMode, Census_IsFlightingInternal, Census_IsFlightingInternal, Census_ThresholdOptIn\n",
    "\n",
    "#List columns with null value > 50 %\n",
    "missing_values=pd.DataFrame({'Column Name':ms_df.columns,'Missing Values Count':ms_df.isnull().sum(),\n",
    "                            'Missing values percentage':ms_df.isnull().sum()/ms_df.shape[0]*100})\n",
    "missing_values.sort_values(by='Missing values percentage',ascending=False)\n",
    "cols_to_drop=list(missing_values[missing_values['Missing values percentage']>50].index)\n",
    "\n",
    "# List unique value columns\n",
    "for col in ms_df.columns:\n",
    "    if ms_df[col].nunique()==ms_df.shape[0] or ms_df[col].nunique()==1:\n",
    "        cols_to_drop.append(col)       \n",
    "\n",
    "# Drop the columns from dataframe        \n",
    "ms_df.drop(columns=cols_to_drop,inplace=True)\n",
    "\n",
    "#cols_to_drop\n",
    "#ms_df.columns"
   ]
  },
  {
   "cell_type": "code",
   "execution_count": 4,
   "metadata": {},
   "outputs": [],
   "source": [
    "# Train Test Split\n",
    "# Separating Out put variable \n",
    "\n",
    "y = ms_df['HasDetections']\n",
    "ms_df.drop(columns='HasDetections',inplace=True)  #dropping output variable from the dataset. Seting the inplace parameter to True so that drop happens immediately\n",
    "\n",
    "# Splitting the data in to 80 : 20 ratio for traning and test purpose, \"random\" is used to freeze the data\n",
    "x_train,x_test,y_train,y_test=train_test_split(ms_df,y,test_size=0.20,random_state=31)  # to not change the random model \n",
    "\n",
    "#y.value_counts()"
   ]
  },
  {
   "cell_type": "code",
   "execution_count": 5,
   "metadata": {},
   "outputs": [],
   "source": [
    "# Convert all the columns to Object type\n",
    "for col in x_train.columns:\n",
    "    x_train[col]=x_train[col].astype('object')\n",
    "    x_test[col]=x_test[col].astype('object')\n",
    "    \n",
    "cols_to_fill_df=pd.DataFrame(x_train.isnull().sum())\n",
    "cols_to_fill=list(cols_to_fill_df[cols_to_fill_df[0]!=0].index)\n",
    "#cols_to_fill_df\n"
   ]
  },
  {
   "cell_type": "code",
   "execution_count": 5,
   "metadata": {},
   "outputs": [],
   "source": [
    "#x_train.isnull().sum()\n",
    "#x_train['RtpStateBitfield']\n",
    "#x_test.isnull().sum()\n",
    "#x_train.dtypes"
   ]
  },
  {
   "cell_type": "code",
   "execution_count": 7,
   "metadata": {},
   "outputs": [
    {
     "data": {
      "text/plain": [
       "'x_train.isnull().sum()\\nx_test.isnull().sum()\\nx_train.dtypes'"
      ]
     },
     "execution_count": 7,
     "metadata": {},
     "output_type": "execute_result"
    }
   ],
   "source": [
    "# Filling the Missing values with Mode\n",
    "for col in cols_to_fill:\n",
    "    x_train[col]=x_train[col].fillna(x_train[col].mode()[0]).astype('object')\n",
    "    x_test[col]=x_test[col].fillna(x_test[col].mode()[0]).astype('object')\n",
    "\n",
    "\"\"\"x_train.isnull().sum()\n",
    "x_test.isnull().sum()\n",
    "x_train.dtypes\"\"\""
   ]
  },
  {
   "cell_type": "code",
   "execution_count": 7,
   "metadata": {},
   "outputs": [],
   "source": [
    "#x_train['RtpStateBitfield']\n",
    "#x_train.isnull().sum()\n",
    "#x_test.isnull().sum()\n",
    "#x_train.dtypes"
   ]
  },
  {
   "cell_type": "code",
   "execution_count": 9,
   "metadata": {},
   "outputs": [],
   "source": [
    "# Missing Value Treatment\n",
    "# One Hot Encoding\n",
    "# Label Encoding\n",
    "\n",
    "from sklearn.preprocessing import LabelEncoder\n",
    "\n",
    "le_ext=LabelEncoderExt()\n",
    "\n",
    "for col in x_train.columns:\n",
    "    le_ext.fit(x_train[col].astype(str))\n",
    "    x_train[col]=le_ext.transform(x_train[col].astype(str))\n",
    "    \n",
    "    x_test[col]=le_ext.transform(x_test[col])\n"
   ]
  },
  {
   "cell_type": "code",
   "execution_count": 9,
   "metadata": {},
   "outputs": [],
   "source": [
    "#x_train['Processor']\n",
    "#x_train.isnull().sum()\n",
    "#x_test.isnull().sum()\n",
    "#x_train.dtypes"
   ]
  },
  {
   "cell_type": "code",
   "execution_count": 10,
   "metadata": {},
   "outputs": [
    {
     "name": "stdout",
     "output_type": "stream",
     "text": [
      "Accuracy 0.4921599718111346\n",
      "Precision 0.0\n",
      "Recall 0.0\n",
      "F1 score: 0.0\n"
     ]
    }
   ],
   "source": [
    "#Instantiating the model, Log_reg is the object\n",
    "from sklearn.linear_model import LogisticRegression\n",
    "from sklearn.metrics import confusion_matrix, accuracy_score,precision_score,recall_score, roc_auc_score, roc_curve, f1_score\n",
    "\n",
    "log_reg = LogisticRegression()\n",
    "\n",
    "# Training the model on the train data\n",
    "log_reg.fit(x_train,y_train)\n",
    "\n",
    "# Predict on the test data\n",
    "y_pred=log_reg.predict(x_test)\n",
    "\n",
    "#y_pred\n",
    "\n",
    "print(\"Accuracy\", accuracy_score(y_test, y_pred))\n",
    "print(\"Precision\", precision_score(y_test, y_pred))\n",
    "print(\"Recall\", recall_score(y_test, y_pred))\n",
    "print('F1 score:', f1_score(y_test,y_pred))"
   ]
  },
  {
   "cell_type": "code",
   "execution_count": 13,
   "metadata": {},
   "outputs": [
    {
     "data": {
      "image/png": "[encoded data removed]",
      "text/plain": [
       "<Figure size 432x288 with 1 Axes>"
      ]
     },
     "metadata": {
      "needs_background": "light"
     },
     "output_type": "display_data"
    },
    {
     "name": "stdout",
     "output_type": "stream",
     "text": [
      "Accuracy 0.4857293868921776\n",
      "Precision 0.4872866597004528\n",
      "Recall 0.24267129228100606\n",
      "F1 score: 0.3239925891616489\n"
     ]
    }
   ],
   "source": [
    "# Build Decision Tree Classifier Model and check the performnace\n",
    "from sklearn.tree import DecisionTreeClassifier\n",
    "from sklearn.metrics import confusion_matrix, accuracy_score,precision_score,recall_score, roc_auc_score, roc_curve, f1_score\n",
    "\n",
    "decision_tree = DecisionTreeClassifier(max_depth= 8, min_samples_leaf=3, min_samples_split=5)\n",
    "decision_tree.fit(x_train,y_train)   # X - input variables data, y - output variable data\n",
    "\n",
    "y_dt_pred=decision_tree.predict(x_test)\n",
    "\n",
    "df=pd.DataFrame({'Test':y_test,'Pred':y_dt_pred})\n",
    "\n",
    "y_pred_proba = decision_tree.predict_proba(x_test)[::,1]  # used for slicing\n",
    "\n",
    "y_pred_proba\n",
    "\n",
    "fpr,tpr,thresholds = roc_curve(y_test,y_pred_proba)\n",
    "auc = roc_auc_score(y_test, y_pred_proba)\n",
    "plt.plot(fpr,tpr,label=\"auc=\"+str(auc))\n",
    "plt.xlabel('False Positive Rate')\n",
    "plt.ylabel('True Positive Rate')\n",
    "plt.title('AUC-ROC Curve')\n",
    "\n",
    "plt.legend(loc=8)\n",
    "plt.show()\n",
    "\n",
    "print(\"Accuracy\", accuracy_score(y_test,y_dt_pred))\n",
    "print(\"Precision\", precision_score(y_test, y_dt_pred))\n",
    "print(\"Recall\", recall_score(y_test, y_dt_pred))\n",
    "print('F1 score:', f1_score(y_test, y_dt_pred))"
   ]
  },
  {
   "cell_type": "code",
   "execution_count": 12,
   "metadata": {},
   "outputs": [
    {
     "data": {
      "text/plain": [
       "{'max_depth': 8, 'min_samples_leaf': 3, 'min_samples_split': 5}"
      ]
     },
     "execution_count": 12,
     "metadata": {},
     "output_type": "execute_result"
    }
   ],
   "source": [
    "# Hyper parameter tuning using GridsearchCV\n",
    "from sklearn.model_selection import GridSearchCV\n",
    "\n",
    "decision_tree = DecisionTreeClassifier()\n",
    "\n",
    "Param_dict = {'max_depth':[3,4,6,8,9],\n",
    "              'min_samples_split':[2,3,5,7],\n",
    "             'min_samples_leaf':[3,6,7,8]}\n",
    "\n",
    "grid_search = GridSearchCV(decision_tree, param_grid=Param_dict,cv=5)\n",
    "\n",
    "grid_search.fit(x_train,y_train)\n",
    "\n",
    "grid_pred=grid_search.predict(x_test)\n",
    "\n",
    "grid_search.best_estimator_\n",
    "grid_search.best_params_\n",
    "\n",
    "#dt1 = DecisionTreeClassifier(random_state=42, max_depth= 8, min_samples_leaf=3, min_samples_split=5)\n",
    "#dt1.fit(x_train,y_train)\n",
    "#best_tree_pred=dt1.predict(x_test)\n",
    "#print(accuracy_score(y_test,grid_pred))\n",
    "#accuracy_score(y_test,best_tree_pred)"
   ]
  },
  {
   "cell_type": "code",
   "execution_count": 14,
   "metadata": {},
   "outputs": [
    {
     "data": {
      "text/plain": [
       "{'min_samples_split': 2, 'min_samples_leaf': 3, 'max_depth': 8}"
      ]
     },
     "execution_count": 14,
     "metadata": {},
     "output_type": "execute_result"
    }
   ],
   "source": [
    "# Hyper parameter tuning using RandomizedSearchCV\n",
    "from sklearn.model_selection import RandomizedSearchCV\n",
    "\n",
    "Param_dict = {'max_depth':[3,4,6,8,9],\n",
    "              'min_samples_split':[2,3,5,7],\n",
    "             'min_samples_leaf':[3,6,7,8]}\n",
    "\n",
    "random_search = RandomizedSearchCV(decision_tree, param_distributions=Param_dict,cv=5, n_iter=60)\n",
    "\n",
    "random_search.fit(x_train,y_train)\n",
    "\n",
    "random_pred=random_search.predict(x_test)\n",
    "\n",
    "random_search.best_estimator_\n",
    "random_search.best_params_"
   ]
  },
  {
   "cell_type": "code",
   "execution_count": 8,
   "metadata": {},
   "outputs": [],
   "source": [
    "from sklearn.preprocessing import LabelEncoder, OneHotEncoder\n",
    "\n",
    "class LabelEncoderExt(object):\n",
    "    def __init__(self):\n",
    "        \"\"\"\n",
    "        It differs from LabelEncoder by handling new classes and providing a value for it [Unknown]\n",
    "        Unknown will be added in fit and transform will take care of new item. It gives unknown class id\n",
    "        \"\"\"\n",
    "        self.label_encoder = LabelEncoder()\n",
    "        # self.classes_ = self.label_encoder.classes_\n",
    "\n",
    "    def fit(self, data_list):\n",
    "        \"\"\"\n",
    "        This will fit the encoder for all the unique values and introduce unknown value\n",
    "        :param data_list: A list of string\n",
    "        :return: self\n",
    "        \"\"\"\n",
    "        self.label_encoder = self.label_encoder.fit(list(data_list) + ['Unknown'])\n",
    "        self.classes_ = self.label_encoder.classes_\n",
    "\n",
    "        return self\n",
    "\n",
    "    def transform(self, data_list):\n",
    "        \"\"\"\n",
    "        This will transform the data_list to id list where the new values get assigned to Unknown class\n",
    "        :param data_list:\n",
    "        :return:\n",
    "        \"\"\"\n",
    "        new_data_list = list(data_list)\n",
    "        for unique_item in np.unique(data_list):\n",
    "            if unique_item not in self.label_encoder.classes_:\n",
    "                new_data_list = ['Unknown' if x==unique_item else x for x in new_data_list]\n",
    "\n",
    "        return self.label_encoder.transform(new_data_list)"
   ]
  }
 ],
 "metadata": {
  "kernelspec": {
   "display_name": "Python 3",
   "language": "python",
   "name": "python3"
  },
  "language_info": {
   "codemirror_mode": {
    "name": "ipython",
    "version": 3
   },
   "file_extension": ".py",
   "mimetype": "text/x-python",
   "name": "python",
   "nbconvert_exporter": "python",
   "pygments_lexer": "ipython3",
   "version": "3.7.3"
  }
 },
 "nbformat": 4,
 "nbformat_minor": 2
}
