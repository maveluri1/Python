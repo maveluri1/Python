{
 "cells": [
  {
   "cell_type": "code",
   "execution_count": 3,
   "metadata": {},
   "outputs": [
    {
     "data": {
      "text/plain": [
       "0       834.842149\n",
       "1       104.796104\n",
       "2       744.640482\n",
       "3       360.500836\n",
       "4       359.310838\n",
       "5       609.238381\n",
       "6       393.779551\n",
       "7       409.072610\n",
       "8       509.902410\n",
       "9       710.147993\n",
       "10      960.526225\n",
       "11      456.621109\n",
       "12      427.651521\n",
       "13      113.463701\n",
       "14      217.898869\n",
       "15      957.472069\n",
       "16      943.350720\n",
       "17      881.824281\n",
       "18      646.410562\n",
       "19      213.824812\n",
       "20      636.832014\n",
       "21      139.146252\n",
       "22      458.704070\n",
       "23      873.863185\n",
       "24      258.450306\n",
       "25      664.851098\n",
       "26      862.674336\n",
       "27      148.848063\n",
       "28      562.949958\n",
       "29      159.155264\n",
       "           ...    \n",
       "9970    811.886695\n",
       "9971    934.211150\n",
       "9972      2.164693\n",
       "9973      1.496932\n",
       "9974    598.742505\n",
       "9975    781.670119\n",
       "9976    291.060540\n",
       "9977    275.488621\n",
       "9978    312.427293\n",
       "9979    396.862396\n",
       "9980    330.901747\n",
       "9981    312.740436\n",
       "9982    415.406105\n",
       "9983    391.426316\n",
       "9984    762.361979\n",
       "9985    336.367057\n",
       "9986    549.608973\n",
       "9987    637.251750\n",
       "9988    957.837050\n",
       "9989    770.886967\n",
       "9990    606.066808\n",
       "9991    425.132193\n",
       "9992    642.197891\n",
       "9993    859.926586\n",
       "9994    302.926139\n",
       "9995     97.788165\n",
       "9996     74.135970\n",
       "9997    672.853312\n",
       "9998     29.641819\n",
       "9999    236.782020\n",
       "Name: numbers, Length: 10000, dtype: float64"
      ]
     },
     "execution_count": 3,
     "metadata": {},
     "output_type": "execute_result"
    },
    {
     "data": {
      "text/plain": [
       "<Figure size 1440x360 with 0 Axes>"
      ]
     },
     "metadata": {},
     "output_type": "display_data"
    }
   ],
   "source": [
    "# 15Sep2019\n",
    "# Central Limit Theorem\n",
    "\n",
    "import pandas as pd         # pd is alias name, execute (ctrl+enter) once to load to notebook\n",
    "import numpy as np\n",
    "import matplotlib.pyplot as plt     # calling pyplot class from matplotlib class\n",
    "                                    # plt is an alias name\n",
    "\n",
    "house_price_df = pd.read_csv('train.csv')\n",
    "plt.figure(figsize = (20,5))\n",
    "#plt.hist(house_price_df['SalePrice'])\n",
    "\n",
    "np.random.seed(44)      # Set the Seed() value to generate the same random values for different iterations\n",
    "\n",
    "# Create an empty dataframe\n",
    "population = pd.DataFrame()\n",
    "\n",
    "#Create a column that is 10000 random numbers drawn from a uniform distribution where values range between 0 to 1000\n",
    "\n",
    "population['numbers'] = np.random.uniform(0,1000,size=10000)\n",
    "population['numbers']"
   ]
  },
  {
   "cell_type": "code",
   "execution_count": 5,
   "metadata": {},
   "outputs": [
    {
     "data": {
      "text/plain": [
       "<matplotlib.axes._subplots.AxesSubplot at 0x241903440f0>"
      ]
     },
     "execution_count": 5,
     "metadata": {},
     "output_type": "execute_result"
    },
    {
     "data": {
      "image/png": "[encoded data removed]",
      "text/plain": [
       "<Figure size 432x288 with 1 Axes>"
      ]
     },
     "metadata": {
      "needs_background": "light"
     },
     "output_type": "display_data"
    }
   ],
   "source": [
    "# Create a list\n",
    "\n",
    "samples_means = []\n",
    "\n",
    "# For 1000 times,\n",
    "\n",
    "for i in range(0,1000):             # output variable 1000-1 is considered\n",
    "    # Take a random sample of 500 rows from the population, take the mean of those rows, append to samples_mean\n",
    "    samples_means.append(population['numbers'].sample(n=500).mean())\n",
    "    \n",
    "# Plot a histogram of sampled_means\n",
    "# it is clearly nomally distributed and centered around 500\n",
    "\n",
    "pd.Series(samples_means).hist(bins=100)  # on x axis interval between columns is called bin\n",
    "#samples_means"
   ]
  },
  {
   "cell_type": "code",
   "execution_count": 6,
   "metadata": {},
   "outputs": [
    {
     "data": {
      "text/plain": [
       "<matplotlib.axes._subplots.AxesSubplot at 0x241903ec518>"
      ]
     },
     "execution_count": 6,
     "metadata": {},
     "output_type": "execute_result"
    },
    {
     "data": {
      "image/png": "[encoded data removed]",
      "text/plain": [
       "<Figure size 432x288 with 1 Axes>"
      ]
     },
     "metadata": {
      "needs_background": "light"
     },
     "output_type": "display_data"
    }
   ],
   "source": [
    "# Problem: Take SalePrice column data as population and distribute the graph with each randam sample of 100, run for 1000 times\n",
    "\n",
    "samples_means = []\n",
    "\n",
    "# For 1000 times,\n",
    "\n",
    "for i in range(0,1000):\n",
    "    # Take a random sample of 100 rows from the population of SalePrice column, take the mean of those rows, append to samples_mean\n",
    "    samples_means.append(house_price_df['SalePrice'].sample(n=100).mean())\n",
    "    \n",
    "# Plot a histogram of sampled_means\n",
    "\n",
    "pd.Series(samples_means).hist(bins=100)  # on x axis interval between columns is called bin\n",
    "\n",
    "#len(samples_means)"
   ]
  }
 ],
 "metadata": {
  "kernelspec": {
   "display_name": "Python 3",
   "language": "python",
   "name": "python3"
  },
  "language_info": {
   "codemirror_mode": {
    "name": "ipython",
    "version": 3
   },
   "file_extension": ".py",
   "mimetype": "text/x-python",
   "name": "python",
   "nbconvert_exporter": "python",
   "pygments_lexer": "ipython3",
   "version": "3.7.3"
  }
 },
 "nbformat": 4,
 "nbformat_minor": 2
}
