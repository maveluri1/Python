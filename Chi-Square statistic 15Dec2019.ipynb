{
 "cells": [
  {
   "cell_type": "code",
   "execution_count": 2,
   "metadata": {},
   "outputs": [],
   "source": [
    "# Assignment 2 - Convert OSBUILD column to categorical and then perform Chisquare test\n",
    "\n",
    "import pandas as pd\n",
    "import numpy as np\n",
    "import matplotlib.pyplot as plt\n",
    "import seaborn as sns\n",
    "\n",
    "# Import Microsoft Dataset\n",
    "train = pd.read_csv('Microsoft_Data-1.csv')\n",
    "\n",
    "train['OsBuild']=train['OsBuild'].astype('object')\n",
    "\n",
    "train['HasDetections']=train['HasDetections'].astype('object')"
   ]
  },
  {
   "cell_type": "code",
   "execution_count": 9,
   "metadata": {},
   "outputs": [
    {
     "name": "stdout",
     "output_type": "stream",
     "text": [
      "P_value is: 1.434114178500418e-17\n"
     ]
    }
   ],
   "source": [
    "# ChiSquare Test - used to test for the correlation between 2 categorical variables\n",
    "\n",
    "import scipy.stats\n",
    "\n",
    "crosstab = pd.crosstab(train['OsBuild'],train['HasDetections'])   # Builds the contingency table\n",
    "\n",
    "#crosstab\n",
    "result=scipy.stats.chi2_contingency(crosstab)  # outputs the chi-square test statistic, p_value and degrees of freedom\n",
    "result\n",
    "\n",
    "print('P_value is:', result[1])\n",
    "\n",
    "# Conclusion: p_value is < 0.05 hence we reject null hypothesis, hence Corelation exists\n",
    "# Null hypothesis - No Corelation\n",
    "# Alternate hypothesis - Correlation exits"
   ]
  }
 ],
 "metadata": {
  "kernelspec": {
   "display_name": "Python 3",
   "language": "python",
   "name": "python3"
  },
  "language_info": {
   "codemirror_mode": {
    "name": "ipython",
    "version": 3
   },
   "file_extension": ".py",
   "mimetype": "text/x-python",
   "name": "python",
   "nbconvert_exporter": "python",
   "pygments_lexer": "ipython3",
   "version": "3.7.3"
  }
 },
 "nbformat": 4,
 "nbformat_minor": 2
}
