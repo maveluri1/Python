{
 "cells": [
  {
   "cell_type": "code",
   "execution_count": 5,
   "metadata": {},
   "outputs": [
    {
     "data": {
      "text/plain": [
       "array([[1.        , 0.26384335],\n",
       "       [0.26384335, 1.        ]])"
      ]
     },
     "execution_count": 5,
     "metadata": {},
     "output_type": "execute_result"
    }
   ],
   "source": [
    "# 14Sep2019\n",
    "# Calculating Pearson Correlation coefficient in Data frames\n",
    "import pandas as pd         # pd is alias name, execute (ctrl+enter) once to load to notebook\n",
    "import numpy as np          # numerical python - all mathematical functions can be called from this, Pearson Co Coeff\n",
    "#import scipy.stats          # scientific Python for Chi squared test\n",
    "#import statsmodels.formula.api as smf           # for Anova model\n",
    "#import matplotlib.pyplot as plt\n",
    "#import seaborn as sns\n",
    "\n",
    "house_price_df = pd.read_csv('train.csv')\n",
    "\n",
    "np.corrcoef(house_price_df['LotArea'], house_price_df['SalePrice'])\n",
    "\n",
    "# Here correlation coeff is 0.26 hence there is no correlation exists between these 2 variables "
   ]
  },
  {
   "cell_type": "code",
   "execution_count": 11,
   "metadata": {},
   "outputs": [
    {
     "data": {
      "text/plain": [
       "(158.07149922833526,\n",
       " 1.434114178500418e-17,\n",
       " 35,\n",
       " array([[1.99478469e+00, 2.00521531e+00],\n",
       "        [3.11186412e+02, 3.12813588e+02],\n",
       "        [5.93947142e+02, 5.97052858e+02],\n",
       "        [8.54266545e+02, 8.58733455e+02],\n",
       "        [1.30359180e+03, 1.31040820e+03],\n",
       "        [2.31195546e+03, 2.32404454e+03],\n",
       "        [2.53138177e+03, 2.54461823e+03],\n",
       "        [7.91580436e+03, 7.95719564e+03],\n",
       "        [1.24155399e+04, 1.24804601e+04],\n",
       "        [4.98696173e-01, 5.01303827e-01],\n",
       "        [4.98696173e-01, 5.01303827e-01],\n",
       "        [1.49608852e+00, 1.50391148e+00],\n",
       "        [4.98696173e-01, 5.01303827e-01],\n",
       "        [9.97392346e-01, 1.00260765e+00],\n",
       "        [4.98696173e-01, 5.01303827e-01],\n",
       "        [4.98696173e-01, 5.01303827e-01],\n",
       "        [7.48044260e+00, 7.51955740e+00],\n",
       "        [4.98696173e-01, 5.01303827e-01],\n",
       "        [4.98696173e+00, 5.01303827e+00],\n",
       "        [4.98696173e-01, 5.01303827e-01],\n",
       "        [4.98696173e-01, 5.01303827e-01],\n",
       "        [2.99217704e+00, 3.00782296e+00],\n",
       "        [7.48044260e+00, 7.51955740e+00],\n",
       "        [4.98696173e-01, 5.01303827e-01],\n",
       "        [4.48826556e+00, 4.51173444e+00],\n",
       "        [6.48305025e+00, 6.51694975e+00],\n",
       "        [3.98956938e+00, 4.01043062e+00],\n",
       "        [4.98696173e-01, 5.01303827e-01],\n",
       "        [2.49348087e+00, 2.50651913e+00],\n",
       "        [3.98956938e+00, 4.01043062e+00],\n",
       "        [2.49348087e+00, 2.50651913e+00],\n",
       "        [5.48565790e+00, 5.51434210e+00],\n",
       "        [4.98696173e-01, 5.01303827e-01],\n",
       "        [1.49608852e+00, 1.50391148e+00],\n",
       "        [4.98696173e-01, 5.01303827e-01],\n",
       "        [1.99478469e+00, 2.00521531e+00]]))"
      ]
     },
     "execution_count": 11,
     "metadata": {},
     "output_type": "execute_result"
    }
   ],
   "source": [
    "# Chi Square test -- used to test correlation between 2 categorical variables\n",
    "# Problem statement: Find whether a system would get infected by virus or not in near future\n",
    "\n",
    "import scipy.stats          # scientific Python for Chi squared test\n",
    "\n",
    "train = pd.read_csv('Microsoft_Data.csv')\n",
    "\n",
    "train['OsBuild'] = train['OsBuild'].astype('object') # converting the feature to a categorical type variable\n",
    "\n",
    "#train['HasDetections']\n",
    "\n",
    "crosstab = pd.crosstab(train['OsBuild'], train['HasDetections'])  # Builds the contingency table, needs 2 variables as input\n",
    "\n",
    "scipy.stats.chi2_contingency(crosstab)   # Outputs the chi-square test statistic, p-value and degrees of freedom. Array is Expected table\n",
    "\n",
    "#len(train['OsBuild'].value_counts())     # outputs unique values to chk degrees of freedom"
   ]
  },
  {
   "cell_type": "code",
   "execution_count": 10,
   "metadata": {},
   "outputs": [
    {
     "name": "stdout",
     "output_type": "stream",
     "text": [
      "                            OLS Regression Results                            \n",
      "==============================================================================\n",
      "Dep. Variable:                    mpg   R-squared:                       0.637\n",
      "Model:                            OLS   Adj. R-squared:                  0.634\n",
      "Method:                 Least Squares   F-statistic:                     172.6\n",
      "Date:                Sun, 15 Sep 2019   Prob (F-statistic):           3.68e-85\n",
      "Time:                        11:19:51   Log-Likelihood:                -1180.8\n",
      "No. Observations:                 398   AIC:                             2372.\n",
      "Df Residuals:                     393   BIC:                             2392.\n",
      "Df Model:                           4                                         \n",
      "Covariance Type:            nonrobust                                         \n",
      "==================================================================================\n",
      "                     coef    std err          t      P>|t|      [0.025      0.975]\n",
      "----------------------------------------------------------------------------------\n",
      "Intercept         20.5500      2.366      8.687      0.000      15.899      25.201\n",
      "cylinders[T.4]     8.7368      2.389      3.657      0.000       4.040      13.433\n",
      "cylinders[T.5]     6.8167      3.614      1.886      0.060      -0.288      13.921\n",
      "cylinders[T.6]    -0.5643      2.421     -0.233      0.816      -5.325       4.196\n",
      "cylinders[T.8]    -5.5869      2.411     -2.317      0.021     -10.327      -0.846\n",
      "==============================================================================\n",
      "Omnibus:                       48.011   Durbin-Watson:                   1.008\n",
      "Prob(Omnibus):                  0.000   Jarque-Bera (JB):               71.510\n",
      "Skew:                           0.793   Prob(JB):                     2.96e-16\n",
      "Kurtosis:                       4.341   Cond. No.                         27.3\n",
      "==============================================================================\n",
      "\n",
      "Warnings:\n",
      "[1] Standard Errors assume that the covariance matrix of the errors is correctly specified.\n"
     ]
    },
    {
     "data": {
      "text/plain": [
       "129"
      ]
     },
     "execution_count": 10,
     "metadata": {},
     "output_type": "execute_result"
    },
    {
     "data": {
      "text/plain": [
       "<Figure size 1440x720 with 0 Axes>"
      ]
     },
     "metadata": {},
     "output_type": "display_data"
    }
   ],
   "source": [
    "# Anova - used to test correlation between 1 categorical and 1 continuous variable\n",
    "\n",
    "import statsmodels.formula.api as smf           # for Anova model\n",
    "import matplotlib.pyplot as plt\n",
    "import seaborn as sns\n",
    "\n",
    "plt.figure(figsize = (20,10))\n",
    "\n",
    "data = pd.read_csv('auto-mpg.data', delim_whitespace = True, header=None, usecols = [0,1],\n",
    "                    names = ['mpg', 'cylinders'], dtype = {'mpg':np.float64, 'cylinders':'category'})  #using only 2 columns 0,1\n",
    "\n",
    "#sns.boxplot(x=data['cylinders'], y=data['mpg'], showmeans=True)\n",
    "\n",
    "#plt.show()\n",
    "\n",
    "\n",
    "#Fitting the ANOVA model\n",
    "\n",
    "model = smf.ols(formula ='mpg ~ cylinders', data = data)\n",
    "results = model.fit()\n",
    "print (results.summary())   # F - statistic & prob( f-statistic) i.e P-values are the values to look out for\n",
    "\n",
    "len(data['mpg'].value_counts()) \n",
    "#len(data['cylinders'].value_counts()) \n",
    "\n",
    "# Coclusion: here F-Statistic value is 3.68e-85 which is less than confidance level/signicant level 0.05\n",
    "# hence we reject the null hypothesis"
   ]
  }
 ],
 "metadata": {
  "kernelspec": {
   "display_name": "Python 3",
   "language": "python",
   "name": "python3"
  },
  "language_info": {
   "codemirror_mode": {
    "name": "ipython",
    "version": 3
   },
   "file_extension": ".py",
   "mimetype": "text/x-python",
   "name": "python",
   "nbconvert_exporter": "python",
   "pygments_lexer": "ipython3",
   "version": "3.7.3"
  }
 },
 "nbformat": 4,
 "nbformat_minor": 2
}
