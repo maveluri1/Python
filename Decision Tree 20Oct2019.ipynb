{
 "cells": [
  {
   "cell_type": "code",
   "execution_count": 4,
   "metadata": {},
   "outputs": [],
   "source": [
    "# 19 OCt 2019 \n",
    "# Building Decision Tree, ROC curve, Hyper parameter tuning\n",
    "\n",
    "import pandas as pd\n",
    "import numpy as np\n",
    "import matplotlib.pyplot as plt\n",
    "\n",
    "from sklearn.model_selection import train_test_split\n",
    "from sklearn.tree import DecisionTreeClassifier\n",
    "from sklearn.metrics import f1_score\n",
    "from sklearn.model_selection import KFold\n",
    "import os\n",
    "\n",
    "#os.chdir('C:\\\\Users\\mmarri\\OneDrive - hsconline\\Trainings')  # poin to your local drive\n",
    "\n",
    "from sklearn.linear_model import LogisticRegression     \n",
    "\n",
    "diabetes_df = pd.read_csv('diabetes.csv')\n",
    "\n",
    "#diabetes_df[['BloodPressure', 'Glucose','Age']]\n",
    "\n",
    "y = diabetes_df['Outcome']\n",
    "\n",
    "diabetes_df.drop(columns='Outcome',inplace=True)  #dropping output variable from the dataset. Seting the inplace parameter to True so that drop happens immediately\n",
    "\n",
    "# Splitting the data in to 80 : 20 ratio for traning and test purpose, \"random\" is used to freeze the data\n",
    "\n",
    "X_train,X_test,y_train,y_test=train_test_split(diabetes_df,y,test_size=0.20,random_state=31)  # to not change the random model \n",
    "\n",
    "#X_train.shape"
   ]
  },
  {
   "cell_type": "code",
   "execution_count": 5,
   "metadata": {},
   "outputs": [
    {
     "data": {
      "image/png": "[encoded data removed]",
      "text/plain": [
       "<Figure size 432x288 with 1 Axes>"
      ]
     },
     "metadata": {
      "needs_background": "light"
     },
     "output_type": "display_data"
    }
   ],
   "source": [
    "from sklearn.tree import DecisionTreeClassifier\n",
    "from sklearn.metrics import confusion_matrix, accuracy_score,precision_score,recall_score, roc_auc_score, roc_curve\n",
    "\n",
    "decision_tree = DecisionTreeClassifier(max_depth=3)\n",
    "\n",
    "decision_tree.fit(X_train,y_train)   # X - input variables data, y - output variable data\n",
    "\n",
    "y_dt_pred=decision_tree.predict(X_test)\n",
    "\n",
    "df=pd.DataFrame({'Test':y_test,'Pred':y_dt_pred})\n",
    "\n",
    "y_pred_proba = decision_tree.predict_proba(X_test)[::,1]  # used for slicing\n",
    "\n",
    "y_pred_proba\n",
    "\n",
    "fpr,tpr,thresholds = roc_curve(y_test,y_pred_proba)\n",
    "\n",
    "auc = roc_auc_score(y_test, y_pred_proba)\n",
    "plt.plot(fpr,tpr,label=\"auc=\"+str(auc))\n",
    "plt.xlabel('False Positive Rate')\n",
    "plt.ylabel('True Positive Rate')\n",
    "\n",
    "plt.title('AUC-ROC Curve')\n",
    "\n",
    "plt.legend(loc=8)\n",
    "plt.show()"
   ]
  },
  {
   "cell_type": "code",
   "execution_count": 50,
   "metadata": {},
   "outputs": [
    {
     "data": {
      "text/plain": [
       "(array([0.        , 0.12244898, 0.18367347, 0.23469388, 0.2755102 ,\n",
       "        0.47959184, 0.53061224, 0.7244898 , 1.        ]),\n",
       " array([0.        , 0.375     , 0.41071429, 0.42857143, 0.57142857,\n",
       "        0.78571429, 0.92857143, 1.        , 1.        ]),\n",
       " array([1.83486239, 0.83486239, 0.8       , 0.625     , 0.56603774,\n",
       "        0.26623377, 0.20408163, 0.17525773, 0.01612903]))"
      ]
     },
     "execution_count": 50,
     "metadata": {},
     "output_type": "execute_result"
    }
   ],
   "source": [
    "fpr, tpr, thresholds"
   ]
  },
  {
   "cell_type": "code",
   "execution_count": 70,
   "metadata": {},
   "outputs": [
    {
     "name": "stdout",
     "output_type": "stream",
     "text": [
      "0.6363636363636364\n"
     ]
    },
    {
     "name": "stderr",
     "output_type": "stream",
     "text": [
      "C:\\Users\\KESHAV\\Anaconda3\\lib\\site-packages\\sklearn\\model_selection\\_search.py:813: DeprecationWarning: The default of the `iid` parameter will change from True to False in version 0.22 and will be removed in 0.24. This will change numeric results when test-set sizes are unequal.\n",
      "  DeprecationWarning)\n"
     ]
    },
    {
     "data": {
      "text/plain": [
       "0.6363636363636364"
      ]
     },
     "execution_count": 70,
     "metadata": {},
     "output_type": "execute_result"
    }
   ],
   "source": [
    "from sklearn.model_selection import GridSearchCV\n",
    "\n",
    "Param_dict = {'max_depth':[3,4,6,8,9],\n",
    "              'min_samples_split':[2,3,5,7],\n",
    "             'min_samples_leaf':[3,6,7,8]}\n",
    "\n",
    "grid_search = GridSearchCV(decision_tree, param_grid=Param_dict,cv=5)\n",
    "\n",
    "grid_search.fit(X_train,y_train)\n",
    "\n",
    "grid_pred=grid_search.predict(X_test)\n",
    "\n",
    "grid_search.best_estimator_\n",
    "grid_search.best_params_\n",
    "\n",
    "dt1 = DecisionTreeClassifier(random_state=42, max_depth= 4, min_samples_leaf=3, min_samples_split=7)\n",
    "dt1.fit(X_train,y_train)\n",
    "best_tree_pred=dt1.predict(X_test)\n",
    "print(accuracy_score(y_test,grid_pred))\n",
    "accuracy_score(y_test,best_tree_pred)\n"
   ]
  },
  {
   "cell_type": "code",
   "execution_count": 76,
   "metadata": {},
   "outputs": [
    {
     "name": "stderr",
     "output_type": "stream",
     "text": [
      "C:\\Users\\KESHAV\\Anaconda3\\lib\\site-packages\\sklearn\\model_selection\\_search.py:813: DeprecationWarning: The default of the `iid` parameter will change from True to False in version 0.22 and will be removed in 0.24. This will change numeric results when test-set sizes are unequal.\n",
      "  DeprecationWarning)\n"
     ]
    },
    {
     "data": {
      "text/plain": [
       "{'min_samples_split': 2, 'min_samples_leaf': 3, 'max_depth': 4}"
      ]
     },
     "execution_count": 76,
     "metadata": {},
     "output_type": "execute_result"
    }
   ],
   "source": [
    "from sklearn.model_selection import RandomizedSearchCV\n",
    "\n",
    "Param_dict = {'max_depth':[3,4,6,8,9],\n",
    "              'min_samples_split':[2,3,5,7],\n",
    "             'min_samples_leaf':[3,6,7,8]}\n",
    "\n",
    "random_search = RandomizedSearchCV(decision_tree, param_distributions=Param_dict,cv=5, n_iter=60)\n",
    "\n",
    "random_search.fit(X_train,y_train)\n",
    "\n",
    "random_pred=random_search.predict(X_test)\n",
    "\n",
    "random_search.best_estimator_\n",
    "random_search.best_params_"
   ]
  }
 ],
 "metadata": {
  "kernelspec": {
   "display_name": "Python 3",
   "language": "python",
   "name": "python3"
  },
  "language_info": {
   "codemirror_mode": {
    "name": "ipython",
    "version": 3
   },
   "file_extension": ".py",
   "mimetype": "text/x-python",
   "name": "python",
   "nbconvert_exporter": "python",
   "pygments_lexer": "ipython3",
   "version": "3.7.3"
  }
 },
 "nbformat": 4,
 "nbformat_minor": 2
}
