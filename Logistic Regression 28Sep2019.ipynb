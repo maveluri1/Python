{
 "cells": [
  {
   "cell_type": "code",
   "execution_count": 9,
   "metadata": {},
   "outputs": [],
   "source": [
    "# 28 Sep 2019\n",
    "# Logistic Regression\n",
    "\n",
    "import pandas as pd         # pd is alias name, execute (ctrl+enter) once to load to notebook\n",
    "\n",
    "import matplotlib.pyplot as plt\n",
    "\n",
    "from sklearn.model_selection import train_test_split\n",
    "\n",
    "from sklearn.linear_model import LogisticRegression     \n",
    "\n",
    "diabetes_df = pd.read_csv('diabetes.csv')\n",
    "\n",
    "#diabetes_df[['BloodPressure', 'Glucose','Age']]\n",
    "\n",
    "y = diabetes_df['Outcome']\n",
    "\n",
    "diabetes_df.drop(columns='Outcome',inplace=True)  #dropping output variable from the dataset. Seting the inplace parameter to True so that drop happens immediately\n",
    "\n",
    "# Splitting the data in to 80 : 20 ratio for traning and test purpose, \"random\" is used to freeze the data\n",
    "\n",
    "X_train,X_test,y_train,y_test=train_test_split(diabetes_df,y,test_size=0.20,random_state=31)  # to not change the random model \n",
    "\n",
    "#X_train\n",
    "\n"
   ]
  },
  {
   "cell_type": "code",
   "execution_count": 2,
   "metadata": {},
   "outputs": [
    {
     "name": "stderr",
     "output_type": "stream",
     "text": [
      "C:\\Users\\KESHAV\\Anaconda3\\lib\\site-packages\\sklearn\\linear_model\\logistic.py:432: FutureWarning: Default solver will be changed to 'lbfgs' in 0.22. Specify a solver to silence this warning.\n",
      "  FutureWarning)\n"
     ]
    }
   ],
   "source": [
    "#Instantiating the model, Log_reg is the object\n",
    "\n",
    "log_reg = LogisticRegression()\n",
    "\n",
    "# Training the model on the train data\n",
    "\n",
    "log_reg.fit(X_train,y_train)\n",
    "\n",
    "# Predict on the test data\n",
    "\n",
    "y_pred=log_reg.predict(X_test)\n",
    "\n",
    "y_pred\n",
    "\n",
    "comparisons_df=pd.DataFrame({'Actuals':y_test,'Predictions':y_pred})\n",
    "\n",
    "#comparisons_df\n"
   ]
  },
  {
   "cell_type": "code",
   "execution_count": 3,
   "metadata": {},
   "outputs": [
    {
     "data": {
      "text/plain": [
       "array([[83, 15],\n",
       "       [26, 30]], dtype=int64)"
      ]
     },
     "execution_count": 3,
     "metadata": {},
     "output_type": "execute_result"
    }
   ],
   "source": [
    "#29Sep2019\n",
    "\n",
    "#Import the metrics to measure he performance of the model, here the problem statement is classification,  so we import the classification\n",
    "from sklearn.metrics import confusion_matrix,accuracy_score,precision_score,recall_score,roc_auc_score,roc_curve\n",
    "\n",
    "#Generate the confusion matrix\n",
    "confusion_matrix = confusion_matrix(y_test, y_pred)\n",
    "confusion_matrix\n"
   ]
  },
  {
   "cell_type": "code",
   "execution_count": 5,
   "metadata": {},
   "outputs": [
    {
     "name": "stdout",
     "output_type": "stream",
     "text": [
      "Accuracy 0.7337662337662337\n",
      "Precision 0.6666666666666666\n",
      "Recall 0.5357142857142857\n"
     ]
    }
   ],
   "source": [
    "print(\"Accuracy\", accuracy_score(y_test, y_pred))\n",
    "print(\"Precision\", precision_score(y_test, y_pred))\n",
    "print(\"Recall\", recall_score(y_test, y_pred))\n"
   ]
  },
  {
   "cell_type": "code",
   "execution_count": 12,
   "metadata": {},
   "outputs": [
    {
     "data": {
      "image/png": "[encoded data removed]",
      "text/plain": [
       "<Figure size 432x288 with 1 Axes>"
      ]
     },
     "metadata": {
      "needs_background": "light"
     },
     "output_type": "display_data"
    }
   ],
   "source": [
    "y_pred_proba = log_reg.predict_proba(X_test)[::,1]\n",
    "\n",
    "# the function roc_curve returns 3 values-\n",
    "fpr,tpr,thresholds=roc_curve(y_test,y_pred_proba)   \n",
    "\n",
    "auc = roc_auc_score(y_test, y_pred_proba)\n",
    "\n",
    "plt.plot(fpr,tpr,label=\"auc\"+str(auc))\n",
    "plt.xlabel('False Positive Rate')\n",
    "plt.ylabel('True Positive Rate')\n",
    "plt.title('AUC-ROC Curve')\n",
    "\n",
    "plt.legend(loc=8)\n",
    "plt.show()\n"
   ]
  },
  {
   "cell_type": "code",
   "execution_count": 15,
   "metadata": {},
   "outputs": [
    {
     "name": "stdout",
     "output_type": "stream",
     "text": [
      "[0.         0.01020408 0.02040816 0.02040816 0.03061224 0.03061224\n",
      " 0.04081633 0.04081633 0.05102041 0.05102041 0.06122449 0.06122449\n",
      " 0.07142857 0.07142857 0.09183673 0.09183673 0.10204082 0.10204082\n",
      " 0.14285714 0.14285714 0.15306122 0.15306122 0.16326531 0.16326531\n",
      " 0.17346939 0.17346939 0.18367347 0.18367347 0.20408163 0.20408163\n",
      " 0.21428571 0.21428571 0.23469388 0.23469388 0.24489796 0.24489796\n",
      " 0.28571429 0.28571429 0.32653061 0.32653061 0.42857143 0.42857143\n",
      " 0.46938776 0.46938776 0.47959184 0.47959184 0.73469388 0.73469388\n",
      " 0.76530612 0.76530612 0.83673469 0.83673469 0.95918367 0.95918367\n",
      " 1.        ] [0.         0.         0.         0.01785714 0.01785714 0.21428571\n",
      " 0.21428571 0.23214286 0.23214286 0.28571429 0.28571429 0.30357143\n",
      " 0.30357143 0.44642857 0.44642857 0.48214286 0.48214286 0.51785714\n",
      " 0.51785714 0.53571429 0.53571429 0.55357143 0.55357143 0.60714286\n",
      " 0.60714286 0.625      0.625      0.64285714 0.64285714 0.69642857\n",
      " 0.69642857 0.75       0.75       0.76785714 0.76785714 0.80357143\n",
      " 0.80357143 0.83928571 0.83928571 0.85714286 0.85714286 0.89285714\n",
      " 0.89285714 0.91071429 0.91071429 0.92857143 0.92857143 0.94642857\n",
      " 0.94642857 0.96428571 0.96428571 0.98214286 0.98214286 1.\n",
      " 1.        ] [1.96210634 0.96210634 0.89192446 0.88333666 0.87809761 0.75200459\n",
      " 0.74501881 0.7415123  0.7149897  0.69205453 0.68638031 0.67694073\n",
      " 0.66693617 0.61311681 0.6104844  0.57126455 0.5647972  0.54701135\n",
      " 0.54247745 0.53102371 0.51668025 0.49989837 0.49858862 0.48159224\n",
      " 0.47888604 0.47337124 0.46964052 0.46790314 0.45255716 0.43941937\n",
      " 0.43101814 0.4012768  0.3877873  0.38728402 0.38460323 0.38192945\n",
      " 0.34753605 0.34421771 0.33604105 0.32669785 0.2962875  0.28914293\n",
      " 0.2731409  0.2712372  0.26817851 0.26369992 0.15740569 0.15654614\n",
      " 0.12826249 0.12343477 0.11139521 0.10832783 0.05518521 0.04610155\n",
      " 0.0072649 ]\n"
     ]
    }
   ],
   "source": [
    "print(fpr,tpr,thresholds)\n",
    "\n",
    "# Both FPR and TPR are increasing as the Thresholds are increasing"
   ]
  },
  {
   "cell_type": "code",
   "execution_count": 14,
   "metadata": {},
   "outputs": [
    {
     "data": {
      "text/plain": [
       "array([[0.94481479, 0.05518521],\n",
       "       [0.78213945, 0.21786055],\n",
       "       [0.83270303, 0.16729697],\n",
       "       [0.8295058 , 0.1704942 ],\n",
       "       [0.32305927, 0.67694073],\n",
       "       [0.60292068, 0.39707932],\n",
       "       [0.93941772, 0.06058228],\n",
       "       [0.5987232 , 0.4012768 ],\n",
       "       [0.74256014, 0.25743986],\n",
       "       [0.89887256, 0.10112744],\n",
       "       [0.76827013, 0.23172987],\n",
       "       [0.13938212, 0.86061788],\n",
       "       [0.71085707, 0.28914293],\n",
       "       [0.82970636, 0.17029364],\n",
       "       [0.66395895, 0.33604105],\n",
       "       [0.65980475, 0.34019525],\n",
       "       [0.87656523, 0.12343477],\n",
       "       [0.9927351 , 0.0072649 ],\n",
       "       [0.37298553, 0.62701447],\n",
       "       [0.87801791, 0.12198209],\n",
       "       [0.59846313, 0.40153687],\n",
       "       [0.39200589, 0.60799411],\n",
       "       [0.24034506, 0.75965494],\n",
       "       [0.92077847, 0.07922153],\n",
       "       [0.85424637, 0.14575363],\n",
       "       [0.69491142, 0.30508858],\n",
       "       [0.38073661, 0.61926339],\n",
       "       [0.12190239, 0.87809761],\n",
       "       [0.50010163, 0.49989837],\n",
       "       [0.25498119, 0.74501881],\n",
       "       [0.54744284, 0.45255716],\n",
       "       [0.7268591 , 0.2731409 ],\n",
       "       [0.90681245, 0.09318755],\n",
       "       [0.549651  , 0.450349  ],\n",
       "       [0.84345386, 0.15654614],\n",
       "       [0.88860479, 0.11139521],\n",
       "       [0.74555268, 0.25444732],\n",
       "       [0.19053265, 0.80946735],\n",
       "       [0.7287628 , 0.2712372 ],\n",
       "       [0.87761618, 0.12238382],\n",
       "       [0.54143384, 0.45856616],\n",
       "       [0.8364533 , 0.1635467 ],\n",
       "       [0.7037125 , 0.2962875 ],\n",
       "       [0.37248391, 0.62751609],\n",
       "       [0.81415359, 0.18584641],\n",
       "       [0.45732837, 0.54267163],\n",
       "       [0.71640504, 0.28359496],\n",
       "       [0.87173751, 0.12826249],\n",
       "       [0.22297799, 0.77702201],\n",
       "       [0.2584877 , 0.7415123 ],\n",
       "       [0.10807554, 0.89192446],\n",
       "       [0.77299095, 0.22700905],\n",
       "       [0.24799541, 0.75200459],\n",
       "       [0.45298865, 0.54701135],\n",
       "       [0.56058063, 0.43941937],\n",
       "       [0.89167217, 0.10832783],\n",
       "       [0.30794547, 0.69205453],\n",
       "       [0.8032573 , 0.1967427 ],\n",
       "       [0.72421235, 0.27578765],\n",
       "       [0.50722515, 0.49277485],\n",
       "       [0.88433257, 0.11566743],\n",
       "       [0.30184658, 0.69815342],\n",
       "       [0.6628315 , 0.3371685 ],\n",
       "       [0.58862529, 0.41137471],\n",
       "       [0.65944687, 0.34055313],\n",
       "       [0.65578229, 0.34421771],\n",
       "       [0.55365128, 0.44634872],\n",
       "       [0.73630008, 0.26369992],\n",
       "       [0.52111396, 0.47888604],\n",
       "       [0.91196177, 0.08803823],\n",
       "       [0.46897629, 0.53102371],\n",
       "       [0.67330215, 0.32669785],\n",
       "       [0.89448139, 0.10551861],\n",
       "       [0.65448773, 0.34551227],\n",
       "       [0.4496036 , 0.5503964 ],\n",
       "       [0.77889439, 0.22110561],\n",
       "       [0.9071973 , 0.0928027 ],\n",
       "       [0.33306383, 0.66693617],\n",
       "       [0.78307935, 0.21692065],\n",
       "       [0.61271598, 0.38728402],\n",
       "       [0.72247699, 0.27752301],\n",
       "       [0.48331975, 0.51668025],\n",
       "       [0.45752255, 0.54247745],\n",
       "       [0.70680297, 0.29319703],\n",
       "       [0.51840776, 0.48159224],\n",
       "       [0.6122127 , 0.3877873 ],\n",
       "       [0.53209686, 0.46790314],\n",
       "       [0.35334146, 0.64665854],\n",
       "       [0.38703233, 0.61296767],\n",
       "       [0.4352028 , 0.5647972 ],\n",
       "       [0.64503791, 0.35496209],\n",
       "       [0.6988684 , 0.3011316 ],\n",
       "       [0.13385639, 0.86614361],\n",
       "       [0.85448403, 0.14551597],\n",
       "       [0.8255981 , 0.1744019 ],\n",
       "       [0.62845407, 0.37154593],\n",
       "       [0.74090399, 0.25909601],\n",
       "       [0.68220819, 0.31779181],\n",
       "       [0.36493148, 0.63506852],\n",
       "       [0.78751743, 0.21248257],\n",
       "       [0.69296572, 0.30703428],\n",
       "       [0.96087009, 0.03912991],\n",
       "       [0.45438635, 0.54561365],\n",
       "       [0.9216346 , 0.0783654 ],\n",
       "       [0.42873545, 0.57126455],\n",
       "       [0.87855268, 0.12144732],\n",
       "       [0.7808094 , 0.2191906 ],\n",
       "       [0.45622439, 0.54377561],\n",
       "       [0.90899076, 0.09100924],\n",
       "       [0.62507375, 0.37492625],\n",
       "       [0.92707486, 0.07292514],\n",
       "       [0.03789366, 0.96210634],\n",
       "       [0.61780249, 0.38219751],\n",
       "       [0.3895156 , 0.6104844 ],\n",
       "       [0.95389845, 0.04610155],\n",
       "       [0.80176254, 0.19823746],\n",
       "       [0.53035948, 0.46964052],\n",
       "       [0.6798904 , 0.3201096 ],\n",
       "       [0.50141138, 0.49858862],\n",
       "       [0.56898186, 0.43101814],\n",
       "       [0.88089286, 0.11910714],\n",
       "       [0.95584206, 0.04415794],\n",
       "       [0.14525631, 0.85474369],\n",
       "       [0.11666334, 0.88333666],\n",
       "       [0.33512261, 0.66487739],\n",
       "       [0.84259431, 0.15740569],\n",
       "       [0.61807055, 0.38192945],\n",
       "       [0.67736184, 0.32263816],\n",
       "       [0.35938113, 0.64061887],\n",
       "       [0.78770217, 0.21229783],\n",
       "       [0.21208955, 0.78791045],\n",
       "       [0.92362323, 0.07637677],\n",
       "       [0.65246395, 0.34753605],\n",
       "       [0.30035078, 0.69964922],\n",
       "       [0.2850103 , 0.7149897 ],\n",
       "       [0.17805337, 0.82194663],\n",
       "       [0.52662876, 0.47337124],\n",
       "       [0.69332549, 0.30667451],\n",
       "       [0.23099655, 0.76900345],\n",
       "       [0.68916131, 0.31083869],\n",
       "       [0.24310525, 0.75689475],\n",
       "       [0.83236937, 0.16763063],\n",
       "       [0.82400505, 0.17599495],\n",
       "       [0.51105031, 0.48894969],\n",
       "       [0.96035212, 0.03964788],\n",
       "       [0.61539677, 0.38460323],\n",
       "       [0.80998241, 0.19001759],\n",
       "       [0.31361969, 0.68638031],\n",
       "       [0.76983156, 0.23016844],\n",
       "       [0.77830257, 0.22169743],\n",
       "       [0.38688319, 0.61311681],\n",
       "       [0.73182149, 0.26817851],\n",
       "       [0.68777118, 0.31222882],\n",
       "       [0.88823695, 0.11176305]])"
      ]
     },
     "execution_count": 14,
     "metadata": {},
     "output_type": "execute_result"
    }
   ],
   "source": [
    "y_pred_proba = log_reg.predict_proba(X_test)\n",
    "y_pred_proba"
   ]
  }
 ],
 "metadata": {
  "kernelspec": {
   "display_name": "Python 3",
   "language": "python",
   "name": "python3"
  },
  "language_info": {
   "codemirror_mode": {
    "name": "ipython",
    "version": 3
   },
   "file_extension": ".py",
   "mimetype": "text/x-python",
   "name": "python",
   "nbconvert_exporter": "python",
   "pygments_lexer": "ipython3",
   "version": "3.7.3"
  }
 },
 "nbformat": 4,
 "nbformat_minor": 2
}
